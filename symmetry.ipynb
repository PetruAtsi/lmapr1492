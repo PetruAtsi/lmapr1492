{
 "cells": [
  {
   "cell_type": "code",
   "execution_count": 3,
   "id": "304ebb1f",
   "metadata": {},
   "outputs": [],
   "source": [
    "import numpy as np\n",
    "from mp_api.client import MPRester\n",
    "from pymatgen.core.operations import SymmOp\n",
    "from pymatgen.symmetry.analyzer import SpacegroupAnalyzer\n",
    "from pymatgen.io.cif import CifWriter\n",
    "from jupyter_jsmol.pymatgen import quick_view\n"
   ]
  },
  {
   "cell_type": "code",
   "execution_count": 4,
   "id": "1de77a38",
   "metadata": {},
   "outputs": [],
   "source": [
    "mp_key = \"jBtrGioeefhRZ0bpN5xCDp8bQrH6O0HK\"\n",
    "mp_id = \"mp-30459\""
   ]
  },
  {
   "cell_type": "markdown",
   "id": "ceebf746",
   "metadata": {},
   "source": [
    "## Téléchargement fichier CIF"
   ]
  },
  {
   "cell_type": "code",
   "execution_count": 8,
   "id": "1dfaa5f4",
   "metadata": {
    "scrolled": true
   },
   "outputs": [
    {
     "data": {
      "application/vnd.jupyter.widget-view+json": {
       "model_id": "9502a7ea433b48999a4c7fc26f47163e",
       "version_major": 2,
       "version_minor": 0
      },
      "text/plain": [
       "Retrieving MaterialsDoc documents:   0%|          | 0/1 [00:00<?, ?it/s]"
      ]
     },
     "metadata": {},
     "output_type": "display_data"
    },
    {
     "name": "stdout",
     "output_type": "stream",
     "text": [
      "Succès du téléchargement du fichier sous le nom :mp-30459.cif \n"
     ]
    }
   ],
   "source": [
    "with MPRester(mp_key) as m:\n",
    "    cif_data = m.get_structure_by_material_id(mp_id)\n",
    "\n",
    "CifWriter(cif_data).write_file(\"mp-30459.cif\")\n",
    "print(\"Succès du téléchargement du fichier sous le nom :mp-30459.cif \")"
   ]
  },
  {
   "cell_type": "markdown",
   "id": "12b4019a",
   "metadata": {},
   "source": [
    "## Obtention informations générale sur les opérations de symmétries"
   ]
  },
  {
   "cell_type": "code",
   "execution_count": 9,
   "id": "0197575b",
   "metadata": {},
   "outputs": [
    {
     "name": "stdout",
     "output_type": "stream",
     "text": [
      "Decommenter les lignes afin d'obtenir toutes les opérations de symmetries uniques, ceci a été commenté dans le but de réduire la charge visuelle sur l'affichage github.Ces lignes de codes ont été effectuées pour aider à la visualisation des différentes opérations et afin de faciliter le choix dans la suite.\n"
     ]
    }
   ],
   "source": [
    "conv_struc = SpacegroupAnalyzer(cif_data).get_conventional_standard_structure()\n",
    "symmops = SpacegroupAnalyzer(conv_struc).get_symmetry_operations()\n",
    "\n",
    "\n",
    "#print(\"Affichage de l'ensemble des opérations de symmétries uniques au sein du matériau\")\n",
    "#for i, symmop in enumerate(symmops, start=1):\n",
    "    \n",
    "    #print(f\"Operation {i}:\")\n",
    "    #print(\"Tenseur de rotation:\")\n",
    "    #print(symmop.rotation_matrix)\n",
    "    #print(\"Vecteur de translation:\")\n",
    "    #print(symmop.translation_vector)\n",
    "\n",
    "print(\"Decommenter les lignes afin d'obtenir toutes les opérations de symmetries uniques, ceci a été commenté dans le but de réduire la charge visuelle sur l'affichage github.Ces lignes de codes ont été effectuées pour aider à la visualisation des différentes opérations et afin de faciliter le choix dans la suite.\")\n"
   ]
  },
  {
   "cell_type": "markdown",
   "id": "ff1fe113",
   "metadata": {},
   "source": [
    "## Operateur de symmetrie 1 (Opération 3) : "
   ]
  },
  {
   "cell_type": "code",
   "execution_count": 10,
   "id": "97534599",
   "metadata": {},
   "outputs": [
    {
     "data": {
      "application/vnd.jupyter.widget-view+json": {
       "model_id": "9d4884e560c64a7f8ca4b430aab6e665",
       "version_major": 2,
       "version_minor": 0
      },
      "text/plain": [
       "JsmolView(layout=Layout(align_self='stretch', height='400px'))"
      ]
     },
     "metadata": {},
     "output_type": "display_data"
    },
    {
     "name": "stdout",
     "output_type": "stream",
     "text": [
      "Operation 2:\n",
      "Tenseur de rotation:\n",
      "[[ 0.  1.  0.]\n",
      " [-1.  0.  0.]\n",
      " [ 0.  0. -1.]]\n",
      "Vecteur de translation:\n",
      "[0. 0. 0.]\n",
      "Angle de rotation\n",
      "180.0\n",
      "Ordre Opération =  2\n",
      "Position initiale de l'atome 1 : [0.5 0.  0. ]\n",
      "Positifion finale de l'atome 1 : [ 0.  -0.5  0. ]\n"
     ]
    }
   ],
   "source": [
    "view = quick_view(cif_data,\"packed\",conventional = \"True\")\n",
    "display(view)\n",
    "view.script('draw SYMOP 2 {atomno=1}')\n",
    "print(f\"Operation {2}:\")\n",
    "print(\"Tenseur de rotation:\")\n",
    "print(symmops[1].rotation_matrix)\n",
    "print(\"Vecteur de translation:\")\n",
    "print(symmops[1].translation_vector)\n",
    "\n",
    "\n",
    "rotation_angle = np.degrees(np.arccos((np.trace(symmops[1].rotation_matrix) - 1) / 2))\n",
    "\n",
    "print(\"Angle de rotation\")\n",
    "print(rotation_angle)\n",
    "print(\"Ordre Opération = \", round(360/rotation_angle))\n",
    "\n",
    "#calcul positions initial et finale de l'atome étudié\n",
    "pos_init = conv_struc.sites[1 -1].frac_coords\n",
    "print(\"Position initiale de l'atome 1 :\",pos_init)\n",
    "pos_final = symmops[1].operate(pos_init)\n",
    "print(\"Positifion finale de l'atome 1 :\",pos_final)\n",
    "\n"
   ]
  },
  {
   "cell_type": "markdown",
   "id": "7ce8e675",
   "metadata": {},
   "source": [
    "Cette opération de symétrie implique une rotation de 180 degrés autour de l'axe z sans translation. L'effet de cette opération sur l'atome 1 est de déplacer sa position initiale [0.5 0. 0.] vers une nouvelle position [ 0. -0.5 0.] L'opération envoie l'atome de la position (x,y,z) dans la position (y,-x,-z).\n",
    "\n",
    "$$\n",
    "\\text{Tenseur de rotation:} \\quad\n",
    "\\begin{pmatrix}\n",
    "0 & 1 & 0 \\\\\n",
    "-1 & 0 & 0 \\\\\n",
    "0 & 0 & -1 \\\\\n",
    "\\end{pmatrix}\n",
    "\\cdot\n",
    "\\begin{pmatrix}\n",
    "x \\\\\n",
    "y \\\\\n",
    "z \\\\\n",
    "\\end{pmatrix}\n",
    "+\n",
    "\\text{Vecteur de translation:} \\quad\n",
    "\\begin{pmatrix}\n",
    "0 \\\\\n",
    "0 \\\\\n",
    "0 \\\\\n",
    "\\end{pmatrix}\n",
    "=\n",
    "\\begin{pmatrix}\n",
    "y \\\\\n",
    "-x \\\\\n",
    "-z \\\\\n",
    "\\end{pmatrix}\n",
    "$$"
   ]
  },
  {
   "cell_type": "markdown",
   "id": "6f322406",
   "metadata": {},
   "source": [
    "## Element de symmetrie 2 (Operation 41) :"
   ]
  },
  {
   "cell_type": "code",
   "execution_count": 11,
   "id": "d9d0a197",
   "metadata": {},
   "outputs": [
    {
     "data": {
      "application/vnd.jupyter.widget-view+json": {
       "model_id": "d97e93eac4494186a63c01a614adafb9",
       "version_major": 2,
       "version_minor": 0
      },
      "text/plain": [
       "JsmolView(layout=Layout(align_self='stretch', height='400px'))"
      ]
     },
     "metadata": {},
     "output_type": "display_data"
    },
    {
     "name": "stdout",
     "output_type": "stream",
     "text": [
      "Operation 41:\n",
      "Tenseur de rotation:\n",
      "[[0. 1. 0.]\n",
      " [0. 0. 1.]\n",
      " [1. 0. 0.]]\n",
      "Vecteur de translation:\n",
      "[0.5 0.5 0. ]\n",
      "Angle de rotation\n",
      "120.00000000000001\n",
      "Ordre Opération =  3\n",
      "Position initiale de l'atome 2 : [0.5 0.5 0.5]\n",
      "Positifion finale de l'atome 2 : [1.  1.  0.5]\n"
     ]
    }
   ],
   "source": [
    "view = quick_view(cif_data,\"packed\",conventional = \"True\")\n",
    "display(view)\n",
    "view.script('draw SYMOP 41 {atomno=2}')\n",
    "print(f\"Operation {41}:\")\n",
    "print(\"Tenseur de rotation:\")\n",
    "print(symmops[40].rotation_matrix)\n",
    "print(\"Vecteur de translation:\")\n",
    "print(symmops[40].translation_vector)\n",
    "\n",
    "\n",
    "rotation_angle = np.degrees(np.arccos((np.trace(symmops[40].rotation_matrix) - 1) / 2))\n",
    "\n",
    "print(\"Angle de rotation\")\n",
    "print(rotation_angle)\n",
    "print(\"Ordre Opération = \", round(360/rotation_angle))\n",
    "\n",
    "pos_init = conv_struc.sites[2 -1].frac_coords\n",
    "print(\"Position initiale de l'atome 2 :\",pos_init)\n",
    "pos_final = symmops[40].operate(pos_init)\n",
    "print(\"Positifion finale de l'atome 2 :\",pos_final)\n",
    "\n"
   ]
  },
  {
   "cell_type": "markdown",
   "id": "50bebfae",
   "metadata": {},
   "source": [
    "Cette opération de symétrie implique une rotation de 120 degrés autour de l'axe z avec translation. L'effet de cette opération sur l'atome 2 est de déplacer sa position initiale [0.5 0.5 0.5] vers une nouvelle position [1. 1. 0.5].L'opération envoie  l'atome de la position (x,y,z) dans la position (y+1/2,z+1/2,x).\n",
    "\n",
    "$$\n",
    "\\text{Tenseur de rotation:} \\quad\n",
    "\\begin{pmatrix}\n",
    "0 & 1 & 0 \\\\\n",
    "0 & 0 & 1 \\\\\n",
    "1 & 0 & 0 \\\\\n",
    "\\end{pmatrix}\n",
    "\\cdot\n",
    "\\begin{pmatrix}\n",
    "x \\\\\n",
    "y \\\\\n",
    "z \\\\\n",
    "\\end{pmatrix}\n",
    "+\n",
    "\\text{Vecteur de translation:} \\quad\n",
    "\\begin{pmatrix}\n",
    "0.5 \\\\\n",
    "0.5 \\\\\n",
    "0 \\\\\n",
    "\\end{pmatrix}\n",
    "=\n",
    "\\begin{pmatrix}\n",
    "y+1/2 \\\\\n",
    "z+1/2 \\\\\n",
    "x \\\\\n",
    "\\end{pmatrix}\n",
    "$$"
   ]
  },
  {
   "cell_type": "markdown",
   "id": "f29d317d",
   "metadata": {},
   "source": [
    "## Element de symmetrie 3 (Operation 56) :"
   ]
  },
  {
   "cell_type": "code",
   "execution_count": 13,
   "id": "805357e1",
   "metadata": {},
   "outputs": [
    {
     "data": {
      "application/vnd.jupyter.widget-view+json": {
       "model_id": "b0f0168e3e6b4b6d88dacdfa22a3c63d",
       "version_major": 2,
       "version_minor": 0
      },
      "text/plain": [
       "JsmolView(layout=Layout(align_self='stretch', height='400px'))"
      ]
     },
     "metadata": {},
     "output_type": "display_data"
    },
    {
     "name": "stdout",
     "output_type": "stream",
     "text": [
      "Operation 56:\n",
      "Tenseur de rotation:\n",
      "[[ 0. -1.  0.]\n",
      " [-1.  0.  0.]\n",
      " [ 0.  0.  1.]]\n",
      "Vecteur de translation:\n",
      "[0.5 0.  0.5]\n",
      "Angle de rotation\n",
      "90.0\n",
      "Ordre Opération =  4\n",
      "Position initiale de l'atome 3 : [0.  0.  0.5]\n",
      "Positifion finale de l'atome 3 : [0.5 0.  1. ]\n"
     ]
    }
   ],
   "source": [
    "view = quick_view(cif_data,\"packed\",conventional = \"True\")\n",
    "display(view)\n",
    "view.script('draw SYMOP 56 {atomno=3}')\n",
    "print(f\"Operation {56}:\")\n",
    "print(\"Tenseur de rotation:\")\n",
    "print(symmops[55].rotation_matrix)\n",
    "print(\"Vecteur de translation:\")\n",
    "print(symmops[55].translation_vector)\n",
    "\n",
    "\n",
    "rotation_angle = np.degrees(np.arccos((np.trace(symmops[55].rotation_matrix) - 1) / 2))\n",
    "\n",
    "print(\"Angle de rotation\")\n",
    "print(rotation_angle)\n",
    "print(\"Ordre Opération = \", round(360/rotation_angle))\n",
    "\n",
    "pos_init = conv_struc.sites[3 -1].frac_coords\n",
    "print(\"Position initiale de l'atome 3 :\",pos_init)\n",
    "pos_final = symmops[55].operate(pos_init)\n",
    "print(\"Positifion finale de l'atome 3 :\",pos_final)\n",
    "\n",
    "\n"
   ]
  },
  {
   "cell_type": "markdown",
   "id": "c2e01f9a",
   "metadata": {},
   "source": [
    "Cette opération de symétrie implique une rotation de 90 degrés autour de l'axe y, suivie d'une translation de 0.5 unités le long de l'axe x et de 0.5 unités le long de l'axe z. L'effet de cette opération sur l'atome 3 est de déplacer sa position initiale [0. 0. 0.5] vers une nouvelle position [0.5 0. 1.]. L'opération envoie l'atome de la position (x,y,z) dans la position (-y+1/2,-x,z+1/2).\n",
    "\n",
    "$$\n",
    "\\text{Tenseur de rotation:} \\quad\n",
    "\\begin{pmatrix}\n",
    "0 & -1 & 0 \\\\\n",
    "-1 & 0 & 0 \\\\\n",
    "0 & 0 & 1 \\\\\n",
    "\\end{pmatrix}\n",
    "\\cdot\n",
    "\\begin{pmatrix}\n",
    "x \\\\\n",
    "y \\\\\n",
    "z \\\\\n",
    "\\end{pmatrix}\n",
    "+\n",
    "\\text{Vecteur de translation:} \\quad\n",
    "\\begin{pmatrix}\n",
    "0.5 \\\\\n",
    "0 \\\\\n",
    "0.5 \\\\\n",
    "\\end{pmatrix}\n",
    "=\n",
    "\\begin{pmatrix}\n",
    "-y+1/2 \\\\\n",
    "-x \\\\\n",
    "z+1/2 \\\\\n",
    "\\end{pmatrix}\n",
    "$$"
   ]
  },
  {
   "cell_type": "code",
   "execution_count": null,
   "id": "246f7ac1",
   "metadata": {},
   "outputs": [],
   "source": []
  }
 ],
 "metadata": {
  "kernelspec": {
   "display_name": "Python 3 (ipykernel)",
   "language": "python",
   "name": "python3"
  },
  "language_info": {
   "codemirror_mode": {
    "name": "ipython",
    "version": 3
   },
   "file_extension": ".py",
   "mimetype": "text/x-python",
   "name": "python",
   "nbconvert_exporter": "python",
   "pygments_lexer": "ipython3",
   "version": "3.9.13"
  }
 },
 "nbformat": 4,
 "nbformat_minor": 5
}
